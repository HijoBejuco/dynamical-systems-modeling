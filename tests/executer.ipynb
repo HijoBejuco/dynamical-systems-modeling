{
 "cells": [
  {
   "cell_type": "code",
   "execution_count": 4,
   "metadata": {},
   "outputs": [
    {
     "name": "stdout",
     "output_type": "stream",
     "text": [
      "['/datos/.pyenv/versions/3.10.13/lib/python310.zip', '/datos/.pyenv/versions/3.10.13/lib/python3.10', '/datos/.pyenv/versions/3.10.13/lib/python3.10/lib-dynload', '', '/home/aespina@proteccion.local/.virtualenvs/dynamic_systems/lib/python3.10/site-packages', './src', './src', './src']\n"
     ]
    },
    {
     "ename": "ModuleNotFoundError",
     "evalue": "No module named 'utils'",
     "output_type": "error",
     "traceback": [
      "\u001b[0;31m---------------------------------------------------------------------------\u001b[0m",
      "\u001b[0;31mModuleNotFoundError\u001b[0m                       Traceback (most recent call last)",
      "Cell \u001b[0;32mIn[4], line 9\u001b[0m\n\u001b[1;32m      7\u001b[0m \u001b[38;5;28mprint\u001b[39m(sys\u001b[38;5;241m.\u001b[39mpath)\n\u001b[1;32m      8\u001b[0m sys\u001b[38;5;241m.\u001b[39mpath\u001b[38;5;241m.\u001b[39mappend(\u001b[38;5;124m\"\u001b[39m\u001b[38;5;124m./src\u001b[39m\u001b[38;5;124m\"\u001b[39m)\n\u001b[0;32m----> 9\u001b[0m \u001b[38;5;28;01mfrom\u001b[39;00m \u001b[38;5;21;01mutils\u001b[39;00m \u001b[38;5;28;01mimport\u001b[39;00m(\n\u001b[1;32m     10\u001b[0m \n\u001b[1;32m     11\u001b[0m     logistic_eq_iterator\n\u001b[1;32m     12\u001b[0m )\n\u001b[1;32m     14\u001b[0m \u001b[38;5;28;01mdef\u001b[39;00m \u001b[38;5;21mtest_logistic_eq_iterator\u001b[39m():\n\u001b[1;32m     15\u001b[0m \u001b[38;5;250m    \u001b[39m\u001b[38;5;124;03m\"\"\"\u001b[39;00m\n\u001b[1;32m     16\u001b[0m \u001b[38;5;124;03m        Compares a predefined output for iterating the\u001b[39;00m\n\u001b[1;32m     17\u001b[0m \u001b[38;5;124;03m        logistic equation\u001b[39;00m\n\u001b[1;32m     18\u001b[0m \u001b[38;5;124;03m    \"\"\"\u001b[39;00m\n",
      "\u001b[0;31mModuleNotFoundError\u001b[0m: No module named 'utils'"
     ]
    }
   ],
   "source": [
    "import sys\n",
    "import os\n",
    "import json\n",
    "import time\n",
    "import pytest\n",
    "import pandas as pd\n",
    "print(sys.path)\n",
    "sys.path.append(\"./src\")\n",
    "from utils import(\n",
    "\n",
    "    logistic_eq_iterator\n",
    ")\n",
    "\n",
    "def test_logistic_eq_iterator():\n",
    "    \"\"\"\n",
    "        Compares a predefined output for iterating the\n",
    "        logistic equation\n",
    "    \"\"\"\n",
    "    result_list = [0.8, 0.432, 0.663, 0.603, 0.646]\n",
    "    assert logistic_eq_iterator(2.7, 0.8, 5) == result_list\n",
    "    #return print(logistic_eq_iterator(2.7, 0.8, 5) == result_list)\n",
    "\n",
    "print(test_logistic_eq_iterator())\n"
   ]
  },
  {
   "cell_type": "code",
   "execution_count": 5,
   "metadata": {},
   "outputs": [
    {
     "data": {
      "text/plain": [
       "True"
      ]
     },
     "execution_count": 5,
     "metadata": {},
     "output_type": "execute_result"
    }
   ],
   "source": [
    "result_list = [0.8, 0.432, 0.663, 0.603, 0.646]\n",
    "logistic_eq_iterator(2.7, 0.8, 5) == result_list"
   ]
  },
  {
   "cell_type": "code",
   "execution_count": 2,
   "metadata": {},
   "outputs": [
    {
     "data": {
      "text/plain": [
       "['/datos/.pyenv/versions/3.10.13/lib/python310.zip',\n",
       " '/datos/.pyenv/versions/3.10.13/lib/python3.10',\n",
       " '/datos/.pyenv/versions/3.10.13/lib/python3.10/lib-dynload',\n",
       " '',\n",
       " '/home/aespina@proteccion.local/.virtualenvs/dynamic_systems/lib/python3.10/site-packages',\n",
       " '.',\n",
       " './src']"
      ]
     },
     "execution_count": 2,
     "metadata": {},
     "output_type": "execute_result"
    }
   ],
   "source": [
    "sys.path.append(\"./src\")\n",
    "sys.path"
   ]
  },
  {
   "cell_type": "code",
   "execution_count": 5,
   "metadata": {},
   "outputs": [
    {
     "ename": "NameError",
     "evalue": "name '__file__' is not defined",
     "output_type": "error",
     "traceback": [
      "\u001b[0;31m---------------------------------------------------------------------------\u001b[0m",
      "\u001b[0;31mNameError\u001b[0m                                 Traceback (most recent call last)",
      "Cell \u001b[0;32mIn[5], line 1\u001b[0m\n\u001b[0;32m----> 1\u001b[0m root_path \u001b[38;5;241m=\u001b[39m os\u001b[38;5;241m.\u001b[39mpath\u001b[38;5;241m.\u001b[39mdirname(os\u001b[38;5;241m.\u001b[39mpath\u001b[38;5;241m.\u001b[39mdirname(\u001b[38;5;18;43m__file__\u001b[39;49m))\n",
      "\u001b[0;31mNameError\u001b[0m: name '__file__' is not defined"
     ]
    }
   ],
   "source": [
    "root_path = os.path.dirname(os.path.dirname(__file__))"
   ]
  },
  {
   "cell_type": "code",
   "execution_count": null,
   "metadata": {},
   "outputs": [],
   "source": []
  },
  {
   "cell_type": "code",
   "execution_count": null,
   "metadata": {},
   "outputs": [],
   "source": []
  },
  {
   "cell_type": "code",
   "execution_count": null,
   "metadata": {},
   "outputs": [],
   "source": []
  },
  {
   "cell_type": "code",
   "execution_count": null,
   "metadata": {},
   "outputs": [],
   "source": []
  }
 ],
 "metadata": {
  "kernelspec": {
   "display_name": "dynamic_systems",
   "language": "python",
   "name": "python3"
  },
  "language_info": {
   "codemirror_mode": {
    "name": "ipython",
    "version": 3
   },
   "file_extension": ".py",
   "mimetype": "text/x-python",
   "name": "python",
   "nbconvert_exporter": "python",
   "pygments_lexer": "ipython3",
   "version": "3.10.13"
  }
 },
 "nbformat": 4,
 "nbformat_minor": 2
}
