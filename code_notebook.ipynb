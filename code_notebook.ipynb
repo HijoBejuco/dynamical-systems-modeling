{
 "cells": [
  {
   "cell_type": "code",
   "execution_count": 11,
   "metadata": {},
   "outputs": [],
   "source": [
    "from typing import List, Tuple, Dict, Union"
   ]
  },
  {
   "cell_type": "markdown",
   "metadata": {},
   "source": [
    "Construct a function which iterates the logistic equation"
   ]
  },
  {
   "cell_type": "code",
   "execution_count": 18,
   "metadata": {},
   "outputs": [],
   "source": [
    "def logistic_eq_iterator(r_value:float, seed: Union[float, int], iterations = int) -> List[float]:\n",
    "    \"\"\"\n",
    "    Method for iterating the logistic equation and recieving it's orbit\n",
    "\n",
    "    Args:\n",
    "        r_value(int): this is the r parameter of the logistic equation\n",
    "        seed(float | int): starting point of the orbit\n",
    "        iterations(int): how many iterations\n",
    "    \"\"\"\n",
    "\n",
    "    # This is the list which will store the orbit of the iterated function\n",
    "    orbit = [seed]\n",
    "\n",
    "    for i in range(1,iterations,1):\n",
    "        # Calculating the x value, which is just the previous value \n",
    "        # in the orbit list\n",
    "        x = orbit[i-1]\n",
    "\n",
    "        # Iterating the function \n",
    "        iterate = r_value*x*(1-x)\n",
    "\n",
    "        # Adding the iterate to the orbit list\n",
    "        orbit.append(round(iterate, 3))\n",
    "\n",
    "\n",
    "    return orbit"
   ]
  },
  {
   "cell_type": "code",
   "execution_count": null,
   "metadata": {},
   "outputs": [],
   "source": []
  },
  {
   "cell_type": "code",
   "execution_count": null,
   "metadata": {},
   "outputs": [],
   "source": []
  }
 ],
 "metadata": {
  "kernelspec": {
   "display_name": "dynamical_modeling_venv",
   "language": "python",
   "name": "python3"
  },
  "language_info": {
   "codemirror_mode": {
    "name": "ipython",
    "version": 3
   },
   "file_extension": ".py",
   "mimetype": "text/x-python",
   "name": "python",
   "nbconvert_exporter": "python",
   "pygments_lexer": "ipython3",
   "version": "3.11.9"
  }
 },
 "nbformat": 4,
 "nbformat_minor": 2
}
