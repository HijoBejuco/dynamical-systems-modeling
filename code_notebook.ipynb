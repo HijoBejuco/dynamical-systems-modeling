{
 "cells": [
  {
   "cell_type": "code",
   "execution_count": null,
   "metadata": {},
   "outputs": [],
   "source": []
  },
  {
   "cell_type": "markdown",
   "metadata": {},
   "source": [
    "Construct a function which iterates the logistic equation"
   ]
  },
  {
   "cell_type": "code",
   "execution_count": 11,
   "metadata": {},
   "outputs": [],
   "source": [
    "def logistic_equation_iteration(r_value:float, seed:float, iterations = int):\n",
    "    \"\"\"\n",
    "    Method for iterating the logistic equation and recieving it's orbit\n",
    "\n",
    "    Args:\n",
    "        r_value(int): this is the r parameter of the logistic equation\n",
    "        seed(float): starting point of the orbit\n",
    "        iterations(int): how many iterations\n",
    "    \"\"\"\n",
    "\n",
    "    # This is the list which will store the orbit of the iterated function\n",
    "    orbit = [seed]\n",
    "    \n",
    "    for i in range(1,iterations,1):\n",
    "        # Calculating the x value, which is just the previous value \n",
    "        # in the orbit list\n",
    "        x = orbit[i-1]\n",
    "\n",
    "        # Iterating the function \n",
    "        iterate = r_value*x*(1-x)\n",
    "\n",
    "        # Adding the iterate to the orbit list\n",
    "        orbit.append(round(iterate, 3))\n",
    "\n",
    "\n",
    "    return orbit\n"
   ]
  },
  {
   "cell_type": "code",
   "execution_count": 12,
   "metadata": {},
   "outputs": [
    {
     "data": {
      "text/plain": [
       "[0.8, 0.4, 0.6, 0.6, 0.6, 0.6, 0.6, 0.6, 0.6, 0.6]"
      ]
     },
     "execution_count": 12,
     "metadata": {},
     "output_type": "execute_result"
    }
   ],
   "source": [
    "logistic_equation_iteration(2.5, 0.8, 10)"
   ]
  },
  {
   "cell_type": "code",
   "execution_count": null,
   "metadata": {},
   "outputs": [],
   "source": []
  },
  {
   "cell_type": "code",
   "execution_count": null,
   "metadata": {},
   "outputs": [],
   "source": []
  }
 ],
 "metadata": {
  "kernelspec": {
   "display_name": "dynamical_modeling_venv",
   "language": "python",
   "name": "python3"
  },
  "language_info": {
   "codemirror_mode": {
    "name": "ipython",
    "version": 3
   },
   "file_extension": ".py",
   "mimetype": "text/x-python",
   "name": "python",
   "nbconvert_exporter": "python",
   "pygments_lexer": "ipython3",
   "version": "3.10.0"
  }
 },
 "nbformat": 4,
 "nbformat_minor": 2
}
