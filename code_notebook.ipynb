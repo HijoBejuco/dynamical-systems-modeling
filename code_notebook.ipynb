{
 "cells": [
  {
   "cell_type": "code",
   "execution_count": 2,
   "metadata": {},
   "outputs": [],
   "source": [
    "from typing import List, Tuple, Dict, Union"
   ]
  },
  {
   "cell_type": "markdown",
   "metadata": {},
   "source": [
    "Construct a function which iterates the logistic equation"
   ]
  },
  {
   "cell_type": "code",
   "execution_count": 3,
   "metadata": {},
   "outputs": [],
   "source": [
    "from src.utils import logistic_eq_iterator"
   ]
  },
  {
   "cell_type": "code",
   "execution_count": 14,
   "metadata": {},
   "outputs": [
    {
     "data": {
      "text/plain": [
       "[0.6875,\n",
       " 0.688,\n",
       " 0.687,\n",
       " 0.688,\n",
       " 0.687,\n",
       " 0.688,\n",
       " 0.687,\n",
       " 0.688,\n",
       " 0.687,\n",
       " 0.688,\n",
       " 0.687,\n",
       " 0.688,\n",
       " 0.687,\n",
       " 0.688,\n",
       " 0.687,\n",
       " 0.688,\n",
       " 0.687,\n",
       " 0.688,\n",
       " 0.687,\n",
       " 0.688,\n",
       " 0.687,\n",
       " 0.688,\n",
       " 0.687,\n",
       " 0.688,\n",
       " 0.687,\n",
       " 0.688,\n",
       " 0.687,\n",
       " 0.688,\n",
       " 0.687,\n",
       " 0.688,\n",
       " 0.687,\n",
       " 0.688,\n",
       " 0.687,\n",
       " 0.688,\n",
       " 0.687,\n",
       " 0.688,\n",
       " 0.687,\n",
       " 0.688,\n",
       " 0.687,\n",
       " 0.688,\n",
       " 0.687,\n",
       " 0.688,\n",
       " 0.687,\n",
       " 0.688,\n",
       " 0.687,\n",
       " 0.688,\n",
       " 0.687,\n",
       " 0.688,\n",
       " 0.687,\n",
       " 0.688,\n",
       " 0.687,\n",
       " 0.688,\n",
       " 0.687,\n",
       " 0.688,\n",
       " 0.687,\n",
       " 0.688,\n",
       " 0.687,\n",
       " 0.688,\n",
       " 0.687,\n",
       " 0.688,\n",
       " 0.687,\n",
       " 0.688,\n",
       " 0.687,\n",
       " 0.688,\n",
       " 0.687,\n",
       " 0.688,\n",
       " 0.687,\n",
       " 0.688,\n",
       " 0.687,\n",
       " 0.688,\n",
       " 0.687,\n",
       " 0.688,\n",
       " 0.687,\n",
       " 0.688,\n",
       " 0.687,\n",
       " 0.688,\n",
       " 0.687,\n",
       " 0.688,\n",
       " 0.687,\n",
       " 0.688,\n",
       " 0.687,\n",
       " 0.688,\n",
       " 0.687,\n",
       " 0.688,\n",
       " 0.687,\n",
       " 0.688,\n",
       " 0.687,\n",
       " 0.688,\n",
       " 0.687,\n",
       " 0.688,\n",
       " 0.687,\n",
       " 0.688,\n",
       " 0.687,\n",
       " 0.688,\n",
       " 0.687,\n",
       " 0.688,\n",
       " 0.687,\n",
       " 0.688,\n",
       " 0.687,\n",
       " 0.688]"
      ]
     },
     "execution_count": 14,
     "metadata": {},
     "output_type": "execute_result"
    }
   ],
   "source": [
    "logistic_eq_iterator(3.2, 0.6875, 100)"
   ]
  },
  {
   "cell_type": "code",
   "execution_count": null,
   "metadata": {},
   "outputs": [],
   "source": []
  }
 ],
 "metadata": {
  "kernelspec": {
   "display_name": "dynamical_modeling_venv",
   "language": "python",
   "name": "python3"
  },
  "language_info": {
   "codemirror_mode": {
    "name": "ipython",
    "version": 3
   },
   "file_extension": ".py",
   "mimetype": "text/x-python",
   "name": "python",
   "nbconvert_exporter": "python",
   "pygments_lexer": "ipython3",
   "version": "3.10.0"
  }
 },
 "nbformat": 4,
 "nbformat_minor": 2
}
